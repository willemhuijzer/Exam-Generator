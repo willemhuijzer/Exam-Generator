{
 "cells": [
  {
   "cell_type": "code",
   "execution_count": null,
   "metadata": {},
   "outputs": [],
   "source": [
    "from project.configuration import *"
   ]
  },
  {
   "cell_type": "code",
   "execution_count": 22,
   "metadata": {},
   "outputs": [],
   "source": [
    "import pdfplumber\n",
    "\n",
    "def extract_text_from_pdf(file_path):\n",
    "    with pdfplumber.open(file_path) as pdf:\n",
    "        num_pages = len(pdf.pages)\n",
    "        text = ''\n",
    "\n",
    "        for page_num in range(num_pages):\n",
    "            page = pdf.pages[page_num]\n",
    "            text += page.extract_text()\n",
    "\n",
    "    return text\n",
    "\n",
    "file_path = 'input.pdf'\n",
    "pdf_text = extract_text_from_pdf(file_path)\n",
    "# print(pdf_text)\n",
    "intro = '''CONTENT OF LECTURE SLIDES:\n",
    "'''\n",
    "exam_text = '''\n",
    "\n",
    "SAMPLE QUESTIONS: Based on slides that I provide in above, generate 3 exam questions on university level in the following format:\n",
    " Question:\n",
    "    Which of the following is NOT a major type of parameter control in Evolutionary Algorithms?\n",
    "    A. Deterministic\n",
    "    B. Adaptive\n",
    "    C. Self-adaptive\n",
    "    D. Randomized\n",
    "\n",
    "    Answer: D\n",
    "\n",
    "Question:\n",
    "    What is the main advantage of adaptive and self-adaptive parameter control in Evolutionary Algorithms?\n",
    "    A. Increased user control\n",
    "    B. Reduction in required computing resources\n",
    "    C. Liberation from parameter tuning and delegating parameter setting to the evolutionary process\n",
    "    D. Improved predictability of parameter values\n",
    "\n",
    "    Answer: C\n",
    "    \n",
    "Generate exam questions, 3 in total, based on the provided CONTENT OF LECTURE SLIDES above in the format of the SAMPLE QUESTIONS:\n",
    "\n",
    "'''\n"
   ]
  },
  {
   "cell_type": "code",
   "execution_count": 24,
   "metadata": {},
   "outputs": [
    {
     "name": "stdout",
     "output_type": "stream",
     "text": [
      "Question:\n",
      "What is the main motivation behind parameter control in Evolutionary Algorithms?\n",
      "A. To increase the complexity of the optimization problem\n",
      "B. To reduce the size of the population\n",
      "C. To find good parameter values that can facilitate good performance\n",
      "D. To decrease the number of generations required\n",
      "\n",
      "Answer: C\n",
      "\n",
      "Question:\n",
      "What are the primary features that distinguish various forms of parameter control in Evolutionary Algorithms?\n",
      "A. Time and number of evaluations\n",
      "B. Evidence/data backing up changes\n",
      "C. What component of the EA is changed and how the change is made\n",
      "D. Scope/level of change\n",
      "\n",
      "Answer: C\n",
      "\n",
      "Question:\n",
      "What are the three major types of parameter control in Evolutionary Algorithms?\n",
      "A. Deterministic, predictive and randomized\n",
      "B. Adaptive, self-adaptive and randomized\n",
      "C. Deterministic, adaptive and self-adaptive\n",
      "D. Fixed, dynamic and self-adaptive\n",
      "\n",
      "Answer: C\n"
     ]
    }
   ],
   "source": [
    "import openai\n",
    "import json\n",
    "\n",
    "# Initialize the OpenAI API client\n",
    "openai.api_key = api_key\n",
    "\n",
    "\n",
    "messages = [\n",
    "    {\"role\": \"system\", \"content\": \"You are a helpful assistant.\"},\n",
    "    # {\"role\": \"user\", \"content\": \"Generate 2 exam questions about the following slides:\"},\n",
    "    {\"role\": \"user\", \"content\": intro + pdf_text + exam_text},\n",
    "]\n",
    "\n",
    "# Make an API request to generate text completion\n",
    "response = openai.ChatCompletion.create(\n",
    "    model=\"gpt-3.5-turbo\",\n",
    "    messages=messages,\n",
    "    max_tokens=1500,\n",
    "    n=1,\n",
    ")  \n",
    "\n",
    "# Extract and print the generated joke\n",
    "joke = response['choices'][0]['message']['content']\n",
    "print(joke)"
   ]
  },
  {
   "cell_type": "code",
   "execution_count": 20,
   "metadata": {},
   "outputs": [
    {
     "name": "stdout",
     "output_type": "stream",
     "text": [
      "{\n",
      "  \"choices\": [\n",
      "    {\n",
      "      \"finish_reason\": \"stop\",\n",
      "      \"index\": 0,\n",
      "      \"message\": {\n",
      "        \"content\": \"Question:\\n    What are some of the primary features used to distinguish various forms of parameter control in Evolutionary Algorithms?\\n    A. Time and number of evaluations, progress made, and population diversity\\n    B. Representations, evaluation functions, variation operators, and selection operators\\n    C. Deterministic, adaptive, and self-adaptive control\\n    D. Environment, population, individual, and sub-individual\\n\\n    Answer: A\",\n",
      "        \"role\": \"assistant\"\n",
      "      }\n",
      "    }\n",
      "  ],\n",
      "  \"created\": 1683378704,\n",
      "  \"id\": \"chatcmpl-7DBzMLFC3zltD82DP5ncUrwLwvYJC\",\n",
      "  \"model\": \"gpt-3.5-turbo-0301\",\n",
      "  \"object\": \"chat.completion\",\n",
      "  \"usage\": {\n",
      "    \"completion_tokens\": 87,\n",
      "    \"prompt_tokens\": 2204,\n",
      "    \"total_tokens\": 2291\n",
      "  }\n",
      "}\n"
     ]
    }
   ],
   "source": [
    "print(response)"
   ]
  },
  {
   "cell_type": "code",
   "execution_count": null,
   "metadata": {},
   "outputs": [],
   "source": []
  }
 ],
 "metadata": {
  "kernelspec": {
   "display_name": "kaas",
   "language": "python",
   "name": "python3"
  },
  "language_info": {
   "codemirror_mode": {
    "name": "ipython",
    "version": 3
   },
   "file_extension": ".py",
   "mimetype": "text/x-python",
   "name": "python",
   "nbconvert_exporter": "python",
   "pygments_lexer": "ipython3",
   "version": "3.11.3"
  },
  "orig_nbformat": 4,
  "vscode": {
   "interpreter": {
    "hash": "d72644e5ee71169455fe643b18cbe2bc671890ca87869c115a57cd852bfd5a45"
   }
  }
 },
 "nbformat": 4,
 "nbformat_minor": 2
}
