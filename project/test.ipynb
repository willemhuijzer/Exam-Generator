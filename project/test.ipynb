{
 "cells": [
  {
   "cell_type": "code",
   "execution_count": 1,
   "metadata": {},
   "outputs": [
    {
     "name": "stdout",
     "output_type": "stream",
     "text": [
      "Requirement already satisfied: openai in /Users/QuinnScot/.pyenv/versions/3.9.0/lib/python3.9/site-packages (from -r requirements.txt (line 1)) (0.27.6)\n",
      "Requirement already satisfied: flask in /Users/QuinnScot/.pyenv/versions/3.9.0/lib/python3.9/site-packages (from -r requirements.txt (line 2)) (2.2.2)\n",
      "Requirement already satisfied: regex in /Users/QuinnScot/.pyenv/versions/3.9.0/lib/python3.9/site-packages (from -r requirements.txt (line 3)) (2022.7.25)\n",
      "Collecting pdfplumber\n",
      "  Downloading pdfplumber-0.9.0-py3-none-any.whl (46 kB)\n",
      "\u001b[2K     \u001b[90m━━━━━━━━━━━━━━━━━━━━━━━━━━━━━━━━━━━━━━━━\u001b[0m \u001b[32m46.1/46.1 kB\u001b[0m \u001b[31m2.2 MB/s\u001b[0m eta \u001b[36m0:00:00\u001b[0m\n",
      "\u001b[?25hRequirement already satisfied: requests>=2.20 in /Users/QuinnScot/.pyenv/versions/3.9.0/lib/python3.9/site-packages (from openai->-r requirements.txt (line 1)) (2.27.1)\n",
      "Requirement already satisfied: aiohttp in /Users/QuinnScot/.pyenv/versions/3.9.0/lib/python3.9/site-packages (from openai->-r requirements.txt (line 1)) (3.8.3)\n",
      "Requirement already satisfied: tqdm in /Users/QuinnScot/.pyenv/versions/3.9.0/lib/python3.9/site-packages (from openai->-r requirements.txt (line 1)) (4.64.0)\n",
      "Requirement already satisfied: importlib-metadata>=3.6.0 in /Users/QuinnScot/.pyenv/versions/3.9.0/lib/python3.9/site-packages (from flask->-r requirements.txt (line 2)) (5.2.0)\n",
      "Requirement already satisfied: Jinja2>=3.0 in /Users/QuinnScot/.pyenv/versions/3.9.0/lib/python3.9/site-packages (from flask->-r requirements.txt (line 2)) (3.1.2)\n",
      "Requirement already satisfied: click>=8.0 in /Users/QuinnScot/.pyenv/versions/3.9.0/lib/python3.9/site-packages (from flask->-r requirements.txt (line 2)) (8.1.3)\n",
      "Requirement already satisfied: itsdangerous>=2.0 in /Users/QuinnScot/.pyenv/versions/3.9.0/lib/python3.9/site-packages (from flask->-r requirements.txt (line 2)) (2.1.2)\n",
      "Requirement already satisfied: Werkzeug>=2.2.2 in /Users/QuinnScot/.pyenv/versions/3.9.0/lib/python3.9/site-packages (from flask->-r requirements.txt (line 2)) (2.2.2)\n",
      "Collecting Wand>=0.6.10\n",
      "  Downloading Wand-0.6.11-py2.py3-none-any.whl (143 kB)\n",
      "\u001b[2K     \u001b[90m━━━━━━━━━━━━━━━━━━━━━━━━━━━━━━━━━━━━━━━\u001b[0m \u001b[32m143.6/143.6 kB\u001b[0m \u001b[31m6.1 MB/s\u001b[0m eta \u001b[36m0:00:00\u001b[0m\n",
      "\u001b[?25hRequirement already satisfied: Pillow>=9.1 in /Users/QuinnScot/.pyenv/versions/3.9.0/lib/python3.9/site-packages (from pdfplumber->-r requirements.txt (line 4)) (9.2.0)\n",
      "Collecting pdfminer.six==20221105\n",
      "  Downloading pdfminer.six-20221105-py3-none-any.whl (5.6 MB)\n",
      "\u001b[2K     \u001b[90m━━━━━━━━━━━━━━━━━━━━━━━━━━━━━━━━━━━━━━━━\u001b[0m \u001b[32m5.6/5.6 MB\u001b[0m \u001b[31m38.9 MB/s\u001b[0m eta \u001b[36m0:00:00\u001b[0ma \u001b[36m0:00:01\u001b[0m\n",
      "\u001b[?25hRequirement already satisfied: charset-normalizer>=2.0.0 in /Users/QuinnScot/.pyenv/versions/3.9.0/lib/python3.9/site-packages (from pdfminer.six==20221105->pdfplumber->-r requirements.txt (line 4)) (2.0.12)\n",
      "Collecting cryptography>=36.0.0\n",
      "  Downloading cryptography-40.0.2-cp36-abi3-macosx_10_12_x86_64.whl (2.8 MB)\n",
      "\u001b[2K     \u001b[90m━━━━━━━━━━━━━━━━━━━━━━━━━━━━━━━━━━━━━━━━\u001b[0m \u001b[32m2.8/2.8 MB\u001b[0m \u001b[31m43.6 MB/s\u001b[0m eta \u001b[36m0:00:00\u001b[0ma \u001b[36m0:00:01\u001b[0m\n",
      "\u001b[?25hRequirement already satisfied: zipp>=0.5 in /Users/QuinnScot/.pyenv/versions/3.9.0/lib/python3.9/site-packages (from importlib-metadata>=3.6.0->flask->-r requirements.txt (line 2)) (3.11.0)\n",
      "Requirement already satisfied: MarkupSafe>=2.0 in /Users/QuinnScot/.pyenv/versions/3.9.0/lib/python3.9/site-packages (from Jinja2>=3.0->flask->-r requirements.txt (line 2)) (2.1.1)\n",
      "Requirement already satisfied: certifi>=2017.4.17 in /Users/QuinnScot/.pyenv/versions/3.9.0/lib/python3.9/site-packages (from requests>=2.20->openai->-r requirements.txt (line 1)) (2021.10.8)\n",
      "Requirement already satisfied: idna<4,>=2.5 in /Users/QuinnScot/.pyenv/versions/3.9.0/lib/python3.9/site-packages (from requests>=2.20->openai->-r requirements.txt (line 1)) (2.10)\n",
      "Requirement already satisfied: urllib3<1.27,>=1.21.1 in /Users/QuinnScot/.pyenv/versions/3.9.0/lib/python3.9/site-packages (from requests>=2.20->openai->-r requirements.txt (line 1)) (1.26.9)\n",
      "Requirement already satisfied: multidict<7.0,>=4.5 in /Users/QuinnScot/.pyenv/versions/3.9.0/lib/python3.9/site-packages (from aiohttp->openai->-r requirements.txt (line 1)) (6.0.4)\n",
      "Requirement already satisfied: aiosignal>=1.1.2 in /Users/QuinnScot/.pyenv/versions/3.9.0/lib/python3.9/site-packages (from aiohttp->openai->-r requirements.txt (line 1)) (1.3.1)\n",
      "Requirement already satisfied: attrs>=17.3.0 in /Users/QuinnScot/.pyenv/versions/3.9.0/lib/python3.9/site-packages (from aiohttp->openai->-r requirements.txt (line 1)) (21.4.0)\n",
      "Requirement already satisfied: yarl<2.0,>=1.0 in /Users/QuinnScot/.pyenv/versions/3.9.0/lib/python3.9/site-packages (from aiohttp->openai->-r requirements.txt (line 1)) (1.8.2)\n",
      "Requirement already satisfied: frozenlist>=1.1.1 in /Users/QuinnScot/.pyenv/versions/3.9.0/lib/python3.9/site-packages (from aiohttp->openai->-r requirements.txt (line 1)) (1.3.3)\n",
      "Requirement already satisfied: async-timeout<5.0,>=4.0.0a3 in /Users/QuinnScot/.pyenv/versions/3.9.0/lib/python3.9/site-packages (from aiohttp->openai->-r requirements.txt (line 1)) (4.0.2)\n",
      "Requirement already satisfied: cffi>=1.12 in /Users/QuinnScot/.pyenv/versions/3.9.0/lib/python3.9/site-packages (from cryptography>=36.0.0->pdfminer.six==20221105->pdfplumber->-r requirements.txt (line 4)) (1.15.1)\n",
      "Requirement already satisfied: pycparser in /Users/QuinnScot/.pyenv/versions/3.9.0/lib/python3.9/site-packages (from cffi>=1.12->cryptography>=36.0.0->pdfminer.six==20221105->pdfplumber->-r requirements.txt (line 4)) (2.21)\n",
      "Installing collected packages: Wand, cryptography, pdfminer.six, pdfplumber\n",
      "Successfully installed Wand-0.6.11 cryptography-40.0.2 pdfminer.six-20221105 pdfplumber-0.9.0\n",
      "\n",
      "\u001b[1m[\u001b[0m\u001b[34;49mnotice\u001b[0m\u001b[1;39;49m]\u001b[0m\u001b[39;49m A new release of pip available: \u001b[0m\u001b[31;49m22.3.1\u001b[0m\u001b[39;49m -> \u001b[0m\u001b[32;49m23.1.2\u001b[0m\n",
      "\u001b[1m[\u001b[0m\u001b[34;49mnotice\u001b[0m\u001b[1;39;49m]\u001b[0m\u001b[39;49m To update, run: \u001b[0m\u001b[32;49mpip install --upgrade pip\u001b[0m\n"
     ]
    }
   ],
   "source": [
    "# !pip install openai\n",
    "# !pip install flask\n",
    "\n",
    "\n",
    "!pip install -r requirements.txt"
   ]
  }
 ],
 "metadata": {
  "kernelspec": {
   "display_name": "Python 3",
   "language": "python",
   "name": "python3"
  },
  "language_info": {
   "codemirror_mode": {
    "name": "ipython",
    "version": 3
   },
   "file_extension": ".py",
   "mimetype": "text/x-python",
   "name": "python",
   "nbconvert_exporter": "python",
   "pygments_lexer": "ipython3",
   "version": "3.9.0"
  },
  "orig_nbformat": 4
 },
 "nbformat": 4,
 "nbformat_minor": 2
}
