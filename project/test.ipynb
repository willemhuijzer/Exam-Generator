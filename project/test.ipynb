{
 "cells": [
  {
   "cell_type": "code",
   "execution_count": 1,
   "metadata": {},
   "outputs": [
    {
     "name": "stdout",
     "output_type": "stream",
     "text": [
      "Requirement already satisfied: flask in /Users/QuinnScot/.pyenv/versions/3.9.0/lib/python3.9/site-packages (2.2.2)\n",
      "Requirement already satisfied: Jinja2>=3.0 in /Users/QuinnScot/.pyenv/versions/3.9.0/lib/python3.9/site-packages (from flask) (3.1.2)\n",
      "Requirement already satisfied: itsdangerous>=2.0 in /Users/QuinnScot/.pyenv/versions/3.9.0/lib/python3.9/site-packages (from flask) (2.1.2)\n",
      "Requirement already satisfied: click>=8.0 in /Users/QuinnScot/.pyenv/versions/3.9.0/lib/python3.9/site-packages (from flask) (8.1.3)\n",
      "Requirement already satisfied: importlib-metadata>=3.6.0 in /Users/QuinnScot/.pyenv/versions/3.9.0/lib/python3.9/site-packages (from flask) (5.2.0)\n",
      "Requirement already satisfied: Werkzeug>=2.2.2 in /Users/QuinnScot/.pyenv/versions/3.9.0/lib/python3.9/site-packages (from flask) (2.2.2)\n",
      "Requirement already satisfied: zipp>=0.5 in /Users/QuinnScot/.pyenv/versions/3.9.0/lib/python3.9/site-packages (from importlib-metadata>=3.6.0->flask) (3.11.0)\n",
      "Requirement already satisfied: MarkupSafe>=2.0 in /Users/QuinnScot/.pyenv/versions/3.9.0/lib/python3.9/site-packages (from Jinja2>=3.0->flask) (2.1.1)\n",
      "\n",
      "\u001b[1m[\u001b[0m\u001b[34;49mnotice\u001b[0m\u001b[1;39;49m]\u001b[0m\u001b[39;49m A new release of pip available: \u001b[0m\u001b[31;49m22.3.1\u001b[0m\u001b[39;49m -> \u001b[0m\u001b[32;49m23.1.2\u001b[0m\n",
      "\u001b[1m[\u001b[0m\u001b[34;49mnotice\u001b[0m\u001b[1;39;49m]\u001b[0m\u001b[39;49m To update, run: \u001b[0m\u001b[32;49mpip install --upgrade pip\u001b[0m\n"
     ]
    }
   ],
   "source": [
    "# !pip install openai\n",
    "# !pip install flask"
   ]
  }
 ],
 "metadata": {
  "kernelspec": {
   "display_name": "Python 3",
   "language": "python",
   "name": "python3"
  },
  "language_info": {
   "codemirror_mode": {
    "name": "ipython",
    "version": 3
   },
   "file_extension": ".py",
   "mimetype": "text/x-python",
   "name": "python",
   "nbconvert_exporter": "python",
   "pygments_lexer": "ipython3",
   "version": "3.9.0"
  },
  "orig_nbformat": 4
 },
 "nbformat": 4,
 "nbformat_minor": 2
}
